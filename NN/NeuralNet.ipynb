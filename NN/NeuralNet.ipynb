{
 "cells": [
  {
   "cell_type": "markdown",
   "id": "34081027-db4c-4d71-8cfa-3928a326faa3",
   "metadata": {},
   "source": [
    "# Importing libraires"
   ]
  },
  {
   "cell_type": "code",
   "execution_count": 3,
   "id": "d066e388-2660-4124-b5fb-d5015dce17c5",
   "metadata": {},
   "outputs": [],
   "source": [
    "import numpy as np \n",
    "import pandas as pd\n",
    "import matplotlib.pyplot as plt \n"
   ]
  },
  {
   "cell_type": "code",
   "execution_count": null,
   "id": "fc16fafe-50a8-4e24-8c25-a122d9f73496",
   "metadata": {},
   "outputs": [],
   "source": []
  }
 ],
 "metadata": {
  "kernelspec": {
   "display_name": "Python 3 (ipykernel)",
   "language": "python",
   "name": "python3"
  },
  "language_info": {
   "codemirror_mode": {
    "name": "ipython",
    "version": 3
   },
   "file_extension": ".py",
   "mimetype": "text/x-python",
   "name": "python",
   "nbconvert_exporter": "python",
   "pygments_lexer": "ipython3",
   "version": "3.12.7"
  }
 },
 "nbformat": 4,
 "nbformat_minor": 5
}
